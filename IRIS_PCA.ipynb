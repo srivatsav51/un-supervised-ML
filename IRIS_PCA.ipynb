{
 "cells": [
  {
   "cell_type": "code",
   "execution_count": 53,
   "metadata": {
    "collapsed": true
   },
   "outputs": [],
   "source": [
    "import pandas as pd\n",
    "import numpy as np\n",
    "df1=pd.read_csv(\"E:\\\\python\\\\PCA\\\\iris.csv\")"
   ]
  },
  {
   "cell_type": "code",
   "execution_count": 54,
   "metadata": {},
   "outputs": [],
   "source": [
    "#Re-name columns in the dataset\n",
    "df1.columns=['Sepal_length','Sepal_width','Petal_length','Petal_width','Type']"
   ]
  },
  {
   "cell_type": "code",
   "execution_count": 55,
   "metadata": {},
   "outputs": [
    {
     "data": {
      "text/html": [
       "<div>\n",
       "<style>\n",
       "    .dataframe thead tr:only-child th {\n",
       "        text-align: right;\n",
       "    }\n",
       "\n",
       "    .dataframe thead th {\n",
       "        text-align: left;\n",
       "    }\n",
       "\n",
       "    .dataframe tbody tr th {\n",
       "        vertical-align: top;\n",
       "    }\n",
       "</style>\n",
       "<table border=\"1\" class=\"dataframe\">\n",
       "  <thead>\n",
       "    <tr style=\"text-align: right;\">\n",
       "      <th></th>\n",
       "      <th>Sepal_length</th>\n",
       "      <th>Sepal_width</th>\n",
       "      <th>Petal_length</th>\n",
       "      <th>Petal_width</th>\n",
       "      <th>Type</th>\n",
       "    </tr>\n",
       "  </thead>\n",
       "  <tbody>\n",
       "    <tr>\n",
       "      <th>0</th>\n",
       "      <td>5.1</td>\n",
       "      <td>3.5</td>\n",
       "      <td>1.4</td>\n",
       "      <td>0.2</td>\n",
       "      <td>Iris-setosa</td>\n",
       "    </tr>\n",
       "    <tr>\n",
       "      <th>1</th>\n",
       "      <td>4.9</td>\n",
       "      <td>3.0</td>\n",
       "      <td>1.4</td>\n",
       "      <td>0.2</td>\n",
       "      <td>Iris-setosa</td>\n",
       "    </tr>\n",
       "    <tr>\n",
       "      <th>2</th>\n",
       "      <td>4.7</td>\n",
       "      <td>3.2</td>\n",
       "      <td>1.3</td>\n",
       "      <td>0.2</td>\n",
       "      <td>Iris-setosa</td>\n",
       "    </tr>\n",
       "    <tr>\n",
       "      <th>3</th>\n",
       "      <td>4.6</td>\n",
       "      <td>3.1</td>\n",
       "      <td>1.5</td>\n",
       "      <td>0.2</td>\n",
       "      <td>Iris-setosa</td>\n",
       "    </tr>\n",
       "    <tr>\n",
       "      <th>4</th>\n",
       "      <td>5.0</td>\n",
       "      <td>3.6</td>\n",
       "      <td>1.4</td>\n",
       "      <td>0.2</td>\n",
       "      <td>Iris-setosa</td>\n",
       "    </tr>\n",
       "  </tbody>\n",
       "</table>\n",
       "</div>"
      ],
      "text/plain": [
       "   Sepal_length  Sepal_width  Petal_length  Petal_width         Type\n",
       "0           5.1          3.5           1.4          0.2  Iris-setosa\n",
       "1           4.9          3.0           1.4          0.2  Iris-setosa\n",
       "2           4.7          3.2           1.3          0.2  Iris-setosa\n",
       "3           4.6          3.1           1.5          0.2  Iris-setosa\n",
       "4           5.0          3.6           1.4          0.2  Iris-setosa"
      ]
     },
     "execution_count": 55,
     "metadata": {},
     "output_type": "execute_result"
    }
   ],
   "source": [
    "df1.head(5)"
   ]
  },
  {
   "cell_type": "code",
   "execution_count": 56,
   "metadata": {},
   "outputs": [
    {
     "data": {
      "text/plain": [
       "Sepal_length    False\n",
       "Sepal_width     False\n",
       "Petal_length    False\n",
       "Petal_width     False\n",
       "Type            False\n",
       "dtype: bool"
      ]
     },
     "execution_count": 56,
     "metadata": {},
     "output_type": "execute_result"
    }
   ],
   "source": [
    "#Check for any NA or null values\n",
    "df1.isnull().any()"
   ]
  },
  {
   "cell_type": "code",
   "execution_count": 57,
   "metadata": {},
   "outputs": [
    {
     "data": {
      "text/plain": [
       "(150, 5)"
      ]
     },
     "execution_count": 57,
     "metadata": {},
     "output_type": "execute_result"
    }
   ],
   "source": [
    "df1.shape"
   ]
  },
  {
   "cell_type": "code",
   "execution_count": 58,
   "metadata": {},
   "outputs": [],
   "source": [
    "#Extract all the features from the data set, in this data set they are 4\n",
    "x=df1.iloc[:, 0:4]\n",
    "#Extract the flower type into another dataframe\n",
    "y=df1.iloc[:,-1]"
   ]
  },
  {
   "cell_type": "code",
   "execution_count": 59,
   "metadata": {
    "collapsed": true
   },
   "outputs": [],
   "source": [
    "df2=pd.DataFrame()"
   ]
  },
  {
   "cell_type": "code",
   "execution_count": 61,
   "metadata": {},
   "outputs": [],
   "source": [
    "#Mean normalizing the whole data manually\n",
    "df3=((x-x.mean())/x.std())\n"
   ]
  },
  {
   "cell_type": "code",
   "execution_count": 63,
   "metadata": {},
   "outputs": [
    {
     "data": {
      "text/html": [
       "<div>\n",
       "<style>\n",
       "    .dataframe thead tr:only-child th {\n",
       "        text-align: right;\n",
       "    }\n",
       "\n",
       "    .dataframe thead th {\n",
       "        text-align: left;\n",
       "    }\n",
       "\n",
       "    .dataframe tbody tr th {\n",
       "        vertical-align: top;\n",
       "    }\n",
       "</style>\n",
       "<table border=\"1\" class=\"dataframe\">\n",
       "  <thead>\n",
       "    <tr style=\"text-align: right;\">\n",
       "      <th></th>\n",
       "      <th>Sepal_length</th>\n",
       "      <th>Sepal_width</th>\n",
       "      <th>Petal_length</th>\n",
       "      <th>Petal_width</th>\n",
       "    </tr>\n",
       "  </thead>\n",
       "  <tbody>\n",
       "    <tr>\n",
       "      <th>0</th>\n",
       "      <td>-0.897674</td>\n",
       "      <td>1.028611</td>\n",
       "      <td>-1.336794</td>\n",
       "      <td>-1.308593</td>\n",
       "    </tr>\n",
       "    <tr>\n",
       "      <th>1</th>\n",
       "      <td>-1.139200</td>\n",
       "      <td>-0.124540</td>\n",
       "      <td>-1.336794</td>\n",
       "      <td>-1.308593</td>\n",
       "    </tr>\n",
       "    <tr>\n",
       "      <th>2</th>\n",
       "      <td>-1.380727</td>\n",
       "      <td>0.336720</td>\n",
       "      <td>-1.393470</td>\n",
       "      <td>-1.308593</td>\n",
       "    </tr>\n",
       "    <tr>\n",
       "      <th>3</th>\n",
       "      <td>-1.501490</td>\n",
       "      <td>0.106090</td>\n",
       "      <td>-1.280118</td>\n",
       "      <td>-1.308593</td>\n",
       "    </tr>\n",
       "    <tr>\n",
       "      <th>4</th>\n",
       "      <td>-1.018437</td>\n",
       "      <td>1.259242</td>\n",
       "      <td>-1.336794</td>\n",
       "      <td>-1.308593</td>\n",
       "    </tr>\n",
       "  </tbody>\n",
       "</table>\n",
       "</div>"
      ],
      "text/plain": [
       "   Sepal_length  Sepal_width  Petal_length  Petal_width\n",
       "0     -0.897674     1.028611     -1.336794    -1.308593\n",
       "1     -1.139200    -0.124540     -1.336794    -1.308593\n",
       "2     -1.380727     0.336720     -1.393470    -1.308593\n",
       "3     -1.501490     0.106090     -1.280118    -1.308593\n",
       "4     -1.018437     1.259242     -1.336794    -1.308593"
      ]
     },
     "execution_count": 63,
     "metadata": {},
     "output_type": "execute_result"
    }
   ],
   "source": [
    "df3.head()"
   ]
  },
  {
   "cell_type": "code",
   "execution_count": 65,
   "metadata": {},
   "outputs": [],
   "source": [
    "#Mean normalizing using scikit learn's method\n",
    "from sklearn.preprocessing import StandardScaler\n",
    "X_std = StandardScaler().fit_transform(x)"
   ]
  },
  {
   "cell_type": "code",
   "execution_count": 67,
   "metadata": {},
   "outputs": [
    {
     "data": {
      "text/plain": [
       "array([-1.14301691, -0.1249576 , -1.3412724 , -1.31297673])"
      ]
     },
     "execution_count": 67,
     "metadata": {},
     "output_type": "execute_result"
    }
   ],
   "source": [
    "X_std[1]"
   ]
  },
  {
   "cell_type": "code",
   "execution_count": 71,
   "metadata": {},
   "outputs": [
    {
     "data": {
      "text/plain": [
       "array([ -4.73695157e-16,  -6.63173220e-16,   3.31586610e-16,\n",
       "        -2.84217094e-16])"
      ]
     },
     "execution_count": 71,
     "metadata": {},
     "output_type": "execute_result"
    }
   ],
   "source": [
    "import numpy as np\n",
    "#Calculating covariance matrix using method 1(normalized using scikit method)\n",
    "mean_vec = np.mean(X_std, axis=0)\n",
    "mean_vec"
   ]
  },
  {
   "cell_type": "code",
   "execution_count": 69,
   "metadata": {
    "collapsed": true
   },
   "outputs": [],
   "source": [
    "#Calculating covariance matrix using method 1(normalized using my method)\n",
    "mean_vec1=np.mean(df3,axis=0)"
   ]
  },
  {
   "cell_type": "code",
   "execution_count": 72,
   "metadata": {},
   "outputs": [
    {
     "data": {
      "text/plain": [
       "Sepal_length   -1.457168e-15\n",
       "Sepal_width    -1.722511e-15\n",
       "Petal_length   -2.043551e-15\n",
       "Petal_width    -9.843977e-17\n",
       "dtype: float64"
      ]
     },
     "execution_count": 72,
     "metadata": {},
     "output_type": "execute_result"
    }
   ],
   "source": [
    "mean_vec1"
   ]
  },
  {
   "cell_type": "code",
   "execution_count": 73,
   "metadata": {},
   "outputs": [
    {
     "name": "stdout",
     "output_type": "stream",
     "text": [
      "Covariance matrix \n",
      "[[ 1.00671141 -0.11010327  0.87760486  0.82344326]\n",
      " [-0.11010327  1.00671141 -0.42333835 -0.358937  ]\n",
      " [ 0.87760486 -0.42333835  1.00671141  0.96921855]\n",
      " [ 0.82344326 -0.358937    0.96921855  1.00671141]]\n"
     ]
    }
   ],
   "source": [
    "#Co-variance matrix calculated on normalized data from scikit's method\n",
    "cov_mat = (X_std - mean_vec).T.dot((X_std - mean_vec)) / (X_std.shape[0]-1)\n",
    "print('Covariance matrix \\n%s' %cov_mat)"
   ]
  },
  {
   "cell_type": "code",
   "execution_count": 75,
   "metadata": {},
   "outputs": [
    {
     "name": "stdout",
     "output_type": "stream",
     "text": [
      "Covariance matrix \n",
      "              Sepal_length  Sepal_width  Petal_length  Petal_width\n",
      "Sepal_length      1.000000    -0.109369      0.871754     0.817954\n",
      "Sepal_width      -0.109369     1.000000     -0.420516    -0.356544\n",
      "Petal_length      0.871754    -0.420516      1.000000     0.962757\n",
      "Petal_width       0.817954    -0.356544      0.962757     1.000000\n"
     ]
    }
   ],
   "source": [
    "#Co-variance matrix calculated on normalized data from my method\n",
    "cov_mat1 = (df3 - mean_vec1).T.dot((df3 - mean_vec1)) / (df3.shape[0]-1)\n",
    "print('Covariance matrix \\n%s' %cov_mat1)"
   ]
  },
  {
   "cell_type": "code",
   "execution_count": 76,
   "metadata": {},
   "outputs": [
    {
     "name": "stdout",
     "output_type": "stream",
     "text": [
      "NumPy covariance matrix: \n",
      "[[ 1.         -0.10936925  0.87175416  0.81795363]\n",
      " [-0.10936925  1.         -0.4205161  -0.35654409]\n",
      " [ 0.87175416 -0.4205161   1.          0.9627571 ]\n",
      " [ 0.81795363 -0.35654409  0.9627571   1.        ]]\n"
     ]
    }
   ],
   "source": [
    "print('NumPy covariance matrix: \\n%s' %np.cov(df3.T))"
   ]
  },
  {
   "cell_type": "code",
   "execution_count": 77,
   "metadata": {},
   "outputs": [
    {
     "name": "stdout",
     "output_type": "stream",
     "text": [
      "Eigenvectors \n",
      "[[ 0.52237162 -0.37231836 -0.72101681  0.26199559]\n",
      " [-0.26335492 -0.92555649  0.24203288 -0.12413481]\n",
      " [ 0.58125401 -0.02109478  0.14089226 -0.80115427]\n",
      " [ 0.56561105 -0.06541577  0.6338014   0.52354627]]\n",
      "\n",
      "Eigenvalues \n",
      "[ 2.93035378  0.92740362  0.14834223  0.02074601]\n"
     ]
    }
   ],
   "source": [
    "#Eigen values and vectors calculated from scikit method\n",
    "eig_vals, eig_vecs = np.linalg.eig(cov_mat)\n",
    "\n",
    "print('Eigenvectors \\n%s' %eig_vecs)\n",
    "print('\\nEigenvalues \\n%s' %eig_vals)"
   ]
  },
  {
   "cell_type": "code",
   "execution_count": 79,
   "metadata": {},
   "outputs": [
    {
     "name": "stdout",
     "output_type": "stream",
     "text": [
      "Eigenvectors \n",
      "[[ 0.52237162 -0.37231836 -0.72101681  0.26199559]\n",
      " [-0.26335492 -0.92555649  0.24203288 -0.12413481]\n",
      " [ 0.58125401 -0.02109478  0.14089226 -0.80115427]\n",
      " [ 0.56561105 -0.06541577  0.6338014   0.52354627]]\n",
      "\n",
      "Eigenvalues \n",
      "[ 2.91081808  0.92122093  0.14735328  0.02060771]\n"
     ]
    }
   ],
   "source": [
    "#Eigen values and vectors calculated from my method\n",
    "eig_vals1, eig_vecs1 = np.linalg.eig(cov_mat1)\n",
    "\n",
    "print('Eigenvectors \\n%s' %eig_vecs1)\n",
    "print('\\nEigenvalues \\n%s' %eig_vals1)\n",
    "#As we can see the eigen values and vectors are approximately equal in both methods"
   ]
  },
  {
   "cell_type": "code",
   "execution_count": 80,
   "metadata": {},
   "outputs": [
    {
     "name": "stdout",
     "output_type": "stream",
     "text": [
      "Everything ok!\n"
     ]
    }
   ],
   "source": [
    "for ev in eig_vecs:\n",
    "    np.testing.assert_array_almost_equal(1.0, np.linalg.norm(ev))\n",
    "print('Everything ok!')"
   ]
  },
  {
   "cell_type": "code",
   "execution_count": 81,
   "metadata": {},
   "outputs": [
    {
     "name": "stdout",
     "output_type": "stream",
     "text": [
      "Everything ok!\n"
     ]
    }
   ],
   "source": [
    "for ev in eig_vecs1:\n",
    "    np.testing.assert_array_almost_equal(1.0, np.linalg.norm(ev))\n",
    "print('Everything ok!')"
   ]
  },
  {
   "cell_type": "code",
   "execution_count": 98,
   "metadata": {},
   "outputs": [
    {
     "data": {
      "text/plain": [
       "[(2.9303537755893156,\n",
       "  array([ 0.52237162, -0.26335492,  0.58125401,  0.56561105])),\n",
       " (0.9274036215173419,\n",
       "  array([-0.37231836, -0.92555649, -0.02109478, -0.06541577])),\n",
       " (0.14834222648164008,\n",
       "  array([-0.72101681,  0.24203288,  0.14089226,  0.6338014 ])),\n",
       " (0.020746013995595992,\n",
       "  array([ 0.26199559, -0.12413481, -0.80115427,  0.52354627]))]"
      ]
     },
     "execution_count": 98,
     "metadata": {},
     "output_type": "execute_result"
    }
   ],
   "source": [
    "# Make a list of (eigenvalue, eigenvector) tuples\n",
    "eig_pairs = [(np.abs(eig_vals[i]), eig_vecs[:,i]) for i in range(len(eig_vals))]\n",
    "eig_pairs"
   ]
  },
  {
   "cell_type": "code",
   "execution_count": 99,
   "metadata": {},
   "outputs": [
    {
     "data": {
      "text/plain": [
       "array([[ 0.52237162],\n",
       "       [-0.26335492],\n",
       "       [ 0.58125401],\n",
       "       [ 0.56561105]])"
      ]
     },
     "execution_count": 99,
     "metadata": {},
     "output_type": "execute_result"
    }
   ],
   "source": [
    "eig_pairs[0][1].reshape(4,1)"
   ]
  },
  {
   "cell_type": "code",
   "execution_count": 100,
   "metadata": {},
   "outputs": [
    {
     "data": {
      "text/plain": [
       "array([[-0.37231836],\n",
       "       [-0.92555649],\n",
       "       [-0.02109478],\n",
       "       [-0.06541577]])"
      ]
     },
     "execution_count": 100,
     "metadata": {},
     "output_type": "execute_result"
    }
   ],
   "source": [
    "eig_pairs[1][1].reshape(4,1)"
   ]
  },
  {
   "cell_type": "code",
   "execution_count": 101,
   "metadata": {},
   "outputs": [
    {
     "data": {
      "text/plain": [
       "array([[ 0.52237162, -0.37231836],\n",
       "       [-0.26335492, -0.92555649],\n",
       "       [ 0.58125401, -0.02109478],\n",
       "       [ 0.56561105, -0.06541577]])"
      ]
     },
     "execution_count": 101,
     "metadata": {},
     "output_type": "execute_result"
    }
   ],
   "source": [
    "matrix_w=np.hstack((eig_pairs[0][1].reshape(4,1),eig_pairs[1][1].reshape(4,1)))\n",
    "matrix_w"
   ]
  },
  {
   "cell_type": "code",
   "execution_count": 106,
   "metadata": {},
   "outputs": [
    {
     "data": {
      "text/plain": [
       "array([[ -2.26454173e+00,  -5.05703903e-01],\n",
       "       [ -2.08642550e+00,   6.55404729e-01],\n",
       "       [ -2.36795045e+00,   3.18477311e-01],\n",
       "       [ -2.30419716e+00,   5.75367713e-01],\n",
       "       [ -2.38877749e+00,  -6.74767397e-01],\n",
       "       [ -2.07053681e+00,  -1.51854856e+00],\n",
       "       [ -2.44571134e+00,  -7.45626750e-02],\n",
       "       [ -2.23384186e+00,  -2.47613932e-01],\n",
       "       [ -2.34195768e+00,   1.09514636e+00],\n",
       "       [ -2.18867576e+00,   4.48629048e-01],\n",
       "       [ -2.16348656e+00,  -1.07059558e+00],\n",
       "       [ -2.32737775e+00,  -1.58587455e-01],\n",
       "       [ -2.22408272e+00,   7.09118158e-01],\n",
       "       [ -2.63971626e+00,   9.38281982e-01],\n",
       "       [ -2.19229151e+00,  -1.88997851e+00],\n",
       "       [ -2.25146521e+00,  -2.72237108e+00],\n",
       "       [ -2.20275048e+00,  -1.51375028e+00],\n",
       "       [ -2.19017916e+00,  -5.14304308e-01],\n",
       "       [ -1.89407429e+00,  -1.43111071e+00],\n",
       "       [ -2.33994907e+00,  -1.15803343e+00],\n",
       "       [ -1.91455639e+00,  -4.30465163e-01],\n",
       "       [ -2.20464540e+00,  -9.52457317e-01],\n",
       "       [ -2.77416979e+00,  -4.89517027e-01],\n",
       "       [ -1.82041156e+00,  -1.06750793e-01],\n",
       "       [ -2.22821750e+00,  -1.62186163e-01],\n",
       "       [ -1.95702401e+00,   6.07892567e-01],\n",
       "       [ -2.05206331e+00,  -2.66014312e-01],\n",
       "       [ -2.16819365e+00,  -5.52016495e-01],\n",
       "       [ -2.14030596e+00,  -3.36640409e-01],\n",
       "       [ -2.26879019e+00,   3.14878603e-01],\n",
       "       [ -2.14455443e+00,   4.83942097e-01],\n",
       "       [ -1.83193810e+00,  -4.45266836e-01],\n",
       "       [ -2.60820287e+00,  -1.82847519e+00],\n",
       "       [ -2.43795086e+00,  -2.18539162e+00],\n",
       "       [ -2.18867576e+00,   4.48629048e-01],\n",
       "       [ -2.21111990e+00,   1.84337811e-01],\n",
       "       [ -2.04441652e+00,  -6.84956426e-01],\n",
       "       [ -2.18867576e+00,   4.48629048e-01],\n",
       "       [ -2.43595220e+00,   8.82169415e-01],\n",
       "       [ -2.17054720e+00,  -2.92726955e-01],\n",
       "       [ -2.28652724e+00,  -4.67991716e-01],\n",
       "       [ -1.87170722e+00,   2.32769161e+00],\n",
       "       [ -2.55783442e+00,   4.53816380e-01],\n",
       "       [ -1.96427929e+00,  -4.97391640e-01],\n",
       "       [ -2.13337283e+00,  -1.17143211e+00],\n",
       "       [ -2.07535759e+00,   6.91917347e-01],\n",
       "       [ -2.38125822e+00,  -1.15063259e+00],\n",
       "       [ -2.39819169e+00,   3.62390765e-01],\n",
       "       [ -2.22678121e+00,  -1.02548255e+00],\n",
       "       [ -2.20595417e+00,  -3.22378453e-02],\n",
       "       [  1.10399365e+00,  -8.63112446e-01],\n",
       "       [  7.32481440e-01,  -5.98635573e-01],\n",
       "       [  1.24210951e+00,  -6.14822450e-01],\n",
       "       [  3.97307283e-01,   1.75816895e+00],\n",
       "       [  1.07259395e+00,   2.11757903e-01],\n",
       "       [  3.84458146e-01,   5.91062469e-01],\n",
       "       [  7.48715076e-01,  -7.78698611e-01],\n",
       "       [ -4.97863388e-01,   1.84886877e+00],\n",
       "       [  9.26222368e-01,  -3.03308268e-02],\n",
       "       [  4.96802558e-03,   1.02940111e+00],\n",
       "       [ -1.24697461e-01,   2.65806268e+00],\n",
       "       [  4.38730118e-01,   5.88812850e-02],\n",
       "       [  5.51633981e-01,   1.77258156e+00],\n",
       "       [  7.17165066e-01,   1.85434315e-01],\n",
       "       [ -3.72583830e-02,   4.32795099e-01],\n",
       "       [  8.75890536e-01,  -5.09998151e-01],\n",
       "       [  3.48006402e-01,   1.90621647e-01],\n",
       "       [  1.53392545e-01,   7.90725456e-01],\n",
       "       [  1.21530321e+00,   1.63335564e+00],\n",
       "       [  1.56941176e-01,   1.30310327e+00],\n",
       "       [  7.38256104e-01,  -4.02470382e-01],\n",
       "       [  4.72369682e-01,   4.16608222e-01],\n",
       "       [  1.22798821e+00,   9.40914793e-01],\n",
       "       [  6.29381045e-01,   4.16811643e-01],\n",
       "       [  7.00472799e-01,   6.34939277e-02],\n",
       "       [  8.73536987e-01,  -2.50708611e-01],\n",
       "       [  1.25422219e+00,   8.26200998e-02],\n",
       "       [  1.35823985e+00,  -3.28820266e-01],\n",
       "       [  6.62126138e-01,   2.24346071e-01],\n",
       "       [ -4.72815133e-02,   1.05721241e+00],\n",
       "       [  1.21534209e-01,   1.56359238e+00],\n",
       "       [  1.41182261e-02,   1.57339235e+00],\n",
       "       [  2.36010837e-01,   7.75923784e-01],\n",
       "       [  1.05669143e+00,   6.36901284e-01],\n",
       "       [  2.21417088e-01,   2.80847693e-01],\n",
       "       [  4.31783161e-01,  -8.55136920e-01],\n",
       "       [  1.04941336e+00,  -5.22197265e-01],\n",
       "       [  1.03587821e+00,   1.39246648e+00],\n",
       "       [  6.70675999e-02,   2.12620735e-01],\n",
       "       [  2.75425066e-01,   1.32981591e+00],\n",
       "       [  2.72335066e-01,   1.11944152e+00],\n",
       "       [  6.23170540e-01,  -2.75426333e-02],\n",
       "       [  3.30005364e-01,   9.88900732e-01],\n",
       "       [ -3.73627623e-01,   2.01793227e+00],\n",
       "       [  2.82944343e-01,   8.53950717e-01],\n",
       "       [  8.90531103e-02,   1.74908548e-01],\n",
       "       [  2.24356783e-01,   3.80484659e-01],\n",
       "       [  5.73883486e-01,   1.53719974e-01],\n",
       "       [ -4.57012873e-01,   1.53946451e+00],\n",
       "       [  2.52244473e-01,   5.95860746e-01],\n",
       "       [  1.84767259e+00,  -8.71696662e-01],\n",
       "       [  1.15318981e+00,   7.01326114e-01],\n",
       "       [  2.20634950e+00,  -5.54470105e-01],\n",
       "       [  1.43868540e+00,   5.00105223e-02],\n",
       "       [  1.86789070e+00,  -2.91192802e-01],\n",
       "       [  2.75419671e+00,  -7.88432206e-01],\n",
       "       [  3.58374475e-01,   1.56009458e+00],\n",
       "       [  2.30300590e+00,  -4.09516695e-01],\n",
       "       [  2.00173530e+00,   7.23865359e-01],\n",
       "       [  2.26755460e+00,  -1.92144299e+00],\n",
       "       [  1.36590943e+00,  -6.93948040e-01],\n",
       "       [  1.59906459e+00,   4.28248836e-01],\n",
       "       [  1.88425185e+00,  -4.14332758e-01],\n",
       "       [  1.25308651e+00,   1.16739134e+00],\n",
       "       [  1.46406152e+00,   4.44147569e-01],\n",
       "       [  1.59180930e+00,  -6.77035372e-01],\n",
       "       [  1.47128019e+00,  -2.53192472e-01],\n",
       "       [  2.43737848e+00,  -2.55675734e+00],\n",
       "       [  3.30914118e+00,   2.36132010e-03],\n",
       "       [  1.25398099e+00,   1.71758384e+00],\n",
       "       [  2.04049626e+00,  -9.07398765e-01],\n",
       "       [  9.73915114e-01,   5.71174376e-01],\n",
       "       [  2.89806444e+00,  -3.97791359e-01],\n",
       "       [  1.32919369e+00,   4.86760542e-01],\n",
       "       [  1.70424071e+00,  -1.01414842e+00],\n",
       "       [  1.95772766e+00,  -1.00333452e+00],\n",
       "       [  1.17190451e+00,   3.18896617e-01],\n",
       "       [  1.01978105e+00,  -6.55429631e-02],\n",
       "       [  1.78600886e+00,   1.93272800e-01],\n",
       "       [  1.86477791e+00,  -5.55381532e-01],\n",
       "       [  2.43549739e+00,  -2.46654468e-01],\n",
       "       [  2.31608241e+00,  -2.62618387e+00],\n",
       "       [  1.86037143e+00,   1.84672394e-01],\n",
       "       [  1.11127173e+00,   2.95986102e-01],\n",
       "       [  1.19746916e+00,   8.17167742e-01],\n",
       "       [  2.80094940e+00,  -8.44748194e-01],\n",
       "       [  1.58015525e+00,  -1.07247450e+00],\n",
       "       [  1.34704442e+00,  -4.22255966e-01],\n",
       "       [  9.23432978e-01,  -1.92303705e-02],\n",
       "       [  1.85355198e+00,  -6.72422729e-01],\n",
       "       [  2.01615720e+00,  -6.10397038e-01],\n",
       "       [  1.90311686e+00,  -6.86024832e-01],\n",
       "       [  1.15318981e+00,   7.01326114e-01],\n",
       "       [  2.04330844e+00,  -8.64684880e-01],\n",
       "       [  2.00169097e+00,  -1.04855005e+00],\n",
       "       [  1.87052207e+00,  -3.82821838e-01],\n",
       "       [  1.55849189e+00,   9.05313601e-01],\n",
       "       [  1.52084506e+00,  -2.66794575e-01],\n",
       "       [  1.37639119e+00,  -1.01636193e+00],\n",
       "       [  9.59298576e-01,   2.22839447e-02]])"
      ]
     },
     "execution_count": 106,
     "metadata": {},
     "output_type": "execute_result"
    }
   ],
   "source": [
    "Y = X_std.dot(matrix_w)\n",
    "Y"
   ]
  },
  {
   "cell_type": "code",
   "execution_count": 103,
   "metadata": {},
   "outputs": [
    {
     "data": {
      "text/plain": [
       "[(2.9108180837520563,\n",
       "  array([ 0.52237162, -0.26335492,  0.58125401,  0.56561105])),\n",
       " (0.92122093070722455,\n",
       "  array([-0.37231836, -0.92555649, -0.02109478, -0.06541577])),\n",
       " (0.14735327830509584,\n",
       "  array([-0.72101681,  0.24203288,  0.14089226,  0.6338014 ])),\n",
       " (0.020607707235625775,\n",
       "  array([ 0.26199559, -0.12413481, -0.80115427,  0.52354627]))]"
      ]
     },
     "execution_count": 103,
     "metadata": {},
     "output_type": "execute_result"
    }
   ],
   "source": [
    "eig_pairs1 = [(np.abs(eig_vals1[i]), eig_vecs1[:,i]) for i in range(len(eig_vals1))]\n",
    "eig_pairs1"
   ]
  },
  {
   "cell_type": "code",
   "execution_count": 104,
   "metadata": {},
   "outputs": [
    {
     "data": {
      "text/plain": [
       "array([[ 0.52237162, -0.37231836],\n",
       "       [-0.26335492, -0.92555649],\n",
       "       [ 0.58125401, -0.02109478],\n",
       "       [ 0.56561105, -0.06541577]])"
      ]
     },
     "execution_count": 104,
     "metadata": {},
     "output_type": "execute_result"
    }
   ],
   "source": [
    "matrix_w1=np.hstack((eig_pairs1[0][1].reshape(4,1),eig_pairs1[1][1].reshape(4,1)))\n",
    "matrix_w1"
   ]
  },
  {
   "cell_type": "code",
   "execution_count": 107,
   "metadata": {},
   "outputs": [
    {
     "data": {
      "text/html": [
       "<div>\n",
       "<style>\n",
       "    .dataframe thead tr:only-child th {\n",
       "        text-align: right;\n",
       "    }\n",
       "\n",
       "    .dataframe thead th {\n",
       "        text-align: left;\n",
       "    }\n",
       "\n",
       "    .dataframe tbody tr th {\n",
       "        vertical-align: top;\n",
       "    }\n",
       "</style>\n",
       "<table border=\"1\" class=\"dataframe\">\n",
       "  <thead>\n",
       "    <tr style=\"text-align: right;\">\n",
       "      <th></th>\n",
       "      <th>0</th>\n",
       "      <th>1</th>\n",
       "    </tr>\n",
       "  </thead>\n",
       "  <tbody>\n",
       "    <tr>\n",
       "      <th>0</th>\n",
       "      <td>-2.256981</td>\n",
       "      <td>-0.504015</td>\n",
       "    </tr>\n",
       "    <tr>\n",
       "      <th>1</th>\n",
       "      <td>-2.079459</td>\n",
       "      <td>0.653216</td>\n",
       "    </tr>\n",
       "    <tr>\n",
       "      <th>2</th>\n",
       "      <td>-2.360044</td>\n",
       "      <td>0.317414</td>\n",
       "    </tr>\n",
       "    <tr>\n",
       "      <th>3</th>\n",
       "      <td>-2.296504</td>\n",
       "      <td>0.573447</td>\n",
       "    </tr>\n",
       "    <tr>\n",
       "      <th>4</th>\n",
       "      <td>-2.380802</td>\n",
       "      <td>-0.672514</td>\n",
       "    </tr>\n",
       "    <tr>\n",
       "      <th>5</th>\n",
       "      <td>-2.063623</td>\n",
       "      <td>-1.513478</td>\n",
       "    </tr>\n",
       "    <tr>\n",
       "      <th>6</th>\n",
       "      <td>-2.437545</td>\n",
       "      <td>-0.074314</td>\n",
       "    </tr>\n",
       "    <tr>\n",
       "      <th>7</th>\n",
       "      <td>-2.226383</td>\n",
       "      <td>-0.246787</td>\n",
       "    </tr>\n",
       "    <tr>\n",
       "      <th>8</th>\n",
       "      <td>-2.334138</td>\n",
       "      <td>1.091490</td>\n",
       "    </tr>\n",
       "    <tr>\n",
       "      <th>9</th>\n",
       "      <td>-2.181368</td>\n",
       "      <td>0.447131</td>\n",
       "    </tr>\n",
       "    <tr>\n",
       "      <th>10</th>\n",
       "      <td>-2.156263</td>\n",
       "      <td>-1.067021</td>\n",
       "    </tr>\n",
       "    <tr>\n",
       "      <th>11</th>\n",
       "      <td>-2.319607</td>\n",
       "      <td>-0.158058</td>\n",
       "    </tr>\n",
       "    <tr>\n",
       "      <th>12</th>\n",
       "      <td>-2.216657</td>\n",
       "      <td>0.706750</td>\n",
       "    </tr>\n",
       "    <tr>\n",
       "      <th>13</th>\n",
       "      <td>-2.630902</td>\n",
       "      <td>0.935149</td>\n",
       "    </tr>\n",
       "    <tr>\n",
       "      <th>14</th>\n",
       "      <td>-2.184972</td>\n",
       "      <td>-1.883668</td>\n",
       "    </tr>\n",
       "    <tr>\n",
       "      <th>15</th>\n",
       "      <td>-2.243948</td>\n",
       "      <td>-2.713281</td>\n",
       "    </tr>\n",
       "    <tr>\n",
       "      <th>16</th>\n",
       "      <td>-2.195396</td>\n",
       "      <td>-1.508696</td>\n",
       "    </tr>\n",
       "    <tr>\n",
       "      <th>17</th>\n",
       "      <td>-2.182866</td>\n",
       "      <td>-0.512587</td>\n",
       "    </tr>\n",
       "    <tr>\n",
       "      <th>18</th>\n",
       "      <td>-1.887750</td>\n",
       "      <td>-1.426332</td>\n",
       "    </tr>\n",
       "    <tr>\n",
       "      <th>19</th>\n",
       "      <td>-2.332136</td>\n",
       "      <td>-1.154167</td>\n",
       "    </tr>\n",
       "    <tr>\n",
       "      <th>20</th>\n",
       "      <td>-1.908164</td>\n",
       "      <td>-0.429028</td>\n",
       "    </tr>\n",
       "    <tr>\n",
       "      <th>21</th>\n",
       "      <td>-2.197284</td>\n",
       "      <td>-0.949277</td>\n",
       "    </tr>\n",
       "    <tr>\n",
       "      <th>22</th>\n",
       "      <td>-2.764907</td>\n",
       "      <td>-0.487883</td>\n",
       "    </tr>\n",
       "    <tr>\n",
       "      <th>23</th>\n",
       "      <td>-1.814333</td>\n",
       "      <td>-0.106394</td>\n",
       "    </tr>\n",
       "    <tr>\n",
       "      <th>24</th>\n",
       "      <td>-2.220778</td>\n",
       "      <td>-0.161645</td>\n",
       "    </tr>\n",
       "    <tr>\n",
       "      <th>25</th>\n",
       "      <td>-1.950490</td>\n",
       "      <td>0.605863</td>\n",
       "    </tr>\n",
       "    <tr>\n",
       "      <th>26</th>\n",
       "      <td>-2.045212</td>\n",
       "      <td>-0.265126</td>\n",
       "    </tr>\n",
       "    <tr>\n",
       "      <th>27</th>\n",
       "      <td>-2.160954</td>\n",
       "      <td>-0.550173</td>\n",
       "    </tr>\n",
       "    <tr>\n",
       "      <th>28</th>\n",
       "      <td>-2.133160</td>\n",
       "      <td>-0.335516</td>\n",
       "    </tr>\n",
       "    <tr>\n",
       "      <th>29</th>\n",
       "      <td>-2.261215</td>\n",
       "      <td>0.313827</td>\n",
       "    </tr>\n",
       "    <tr>\n",
       "      <th>...</th>\n",
       "      <td>...</td>\n",
       "      <td>...</td>\n",
       "    </tr>\n",
       "    <tr>\n",
       "      <th>120</th>\n",
       "      <td>2.033683</td>\n",
       "      <td>-0.904369</td>\n",
       "    </tr>\n",
       "    <tr>\n",
       "      <th>121</th>\n",
       "      <td>0.970663</td>\n",
       "      <td>0.569267</td>\n",
       "    </tr>\n",
       "    <tr>\n",
       "      <th>122</th>\n",
       "      <td>2.888388</td>\n",
       "      <td>-0.396463</td>\n",
       "    </tr>\n",
       "    <tr>\n",
       "      <th>123</th>\n",
       "      <td>1.324756</td>\n",
       "      <td>0.485135</td>\n",
       "    </tr>\n",
       "    <tr>\n",
       "      <th>124</th>\n",
       "      <td>1.698550</td>\n",
       "      <td>-1.010762</td>\n",
       "    </tr>\n",
       "    <tr>\n",
       "      <th>125</th>\n",
       "      <td>1.951191</td>\n",
       "      <td>-0.999984</td>\n",
       "    </tr>\n",
       "    <tr>\n",
       "      <th>126</th>\n",
       "      <td>1.167992</td>\n",
       "      <td>0.317832</td>\n",
       "    </tr>\n",
       "    <tr>\n",
       "      <th>127</th>\n",
       "      <td>1.016376</td>\n",
       "      <td>-0.065324</td>\n",
       "    </tr>\n",
       "    <tr>\n",
       "      <th>128</th>\n",
       "      <td>1.780046</td>\n",
       "      <td>0.192627</td>\n",
       "    </tr>\n",
       "    <tr>\n",
       "      <th>129</th>\n",
       "      <td>1.858552</td>\n",
       "      <td>-0.553527</td>\n",
       "    </tr>\n",
       "    <tr>\n",
       "      <th>130</th>\n",
       "      <td>2.427365</td>\n",
       "      <td>-0.245831</td>\n",
       "    </tr>\n",
       "    <tr>\n",
       "      <th>131</th>\n",
       "      <td>2.308349</td>\n",
       "      <td>-2.617415</td>\n",
       "    </tr>\n",
       "    <tr>\n",
       "      <th>132</th>\n",
       "      <td>1.854160</td>\n",
       "      <td>0.184056</td>\n",
       "    </tr>\n",
       "    <tr>\n",
       "      <th>133</th>\n",
       "      <td>1.107561</td>\n",
       "      <td>0.294998</td>\n",
       "    </tr>\n",
       "    <tr>\n",
       "      <th>134</th>\n",
       "      <td>1.193471</td>\n",
       "      <td>0.814439</td>\n",
       "    </tr>\n",
       "    <tr>\n",
       "      <th>135</th>\n",
       "      <td>2.791597</td>\n",
       "      <td>-0.841928</td>\n",
       "    </tr>\n",
       "    <tr>\n",
       "      <th>136</th>\n",
       "      <td>1.574879</td>\n",
       "      <td>-1.068894</td>\n",
       "    </tr>\n",
       "    <tr>\n",
       "      <th>137</th>\n",
       "      <td>1.342547</td>\n",
       "      <td>-0.420846</td>\n",
       "    </tr>\n",
       "    <tr>\n",
       "      <th>138</th>\n",
       "      <td>0.920350</td>\n",
       "      <td>-0.019166</td>\n",
       "    </tr>\n",
       "    <tr>\n",
       "      <th>139</th>\n",
       "      <td>1.847363</td>\n",
       "      <td>-0.670178</td>\n",
       "    </tr>\n",
       "    <tr>\n",
       "      <th>140</th>\n",
       "      <td>2.009425</td>\n",
       "      <td>-0.608359</td>\n",
       "    </tr>\n",
       "    <tr>\n",
       "      <th>141</th>\n",
       "      <td>1.896763</td>\n",
       "      <td>-0.683734</td>\n",
       "    </tr>\n",
       "    <tr>\n",
       "      <th>142</th>\n",
       "      <td>1.149339</td>\n",
       "      <td>0.698984</td>\n",
       "    </tr>\n",
       "    <tr>\n",
       "      <th>143</th>\n",
       "      <td>2.036486</td>\n",
       "      <td>-0.861798</td>\n",
       "    </tr>\n",
       "    <tr>\n",
       "      <th>144</th>\n",
       "      <td>1.995008</td>\n",
       "      <td>-1.045049</td>\n",
       "    </tr>\n",
       "    <tr>\n",
       "      <th>145</th>\n",
       "      <td>1.864277</td>\n",
       "      <td>-0.381544</td>\n",
       "    </tr>\n",
       "    <tr>\n",
       "      <th>146</th>\n",
       "      <td>1.553288</td>\n",
       "      <td>0.902291</td>\n",
       "    </tr>\n",
       "    <tr>\n",
       "      <th>147</th>\n",
       "      <td>1.515767</td>\n",
       "      <td>-0.265904</td>\n",
       "    </tr>\n",
       "    <tr>\n",
       "      <th>148</th>\n",
       "      <td>1.371796</td>\n",
       "      <td>-1.012968</td>\n",
       "    </tr>\n",
       "    <tr>\n",
       "      <th>149</th>\n",
       "      <td>0.956096</td>\n",
       "      <td>0.022210</td>\n",
       "    </tr>\n",
       "  </tbody>\n",
       "</table>\n",
       "<p>150 rows × 2 columns</p>\n",
       "</div>"
      ],
      "text/plain": [
       "            0         1\n",
       "0   -2.256981 -0.504015\n",
       "1   -2.079459  0.653216\n",
       "2   -2.360044  0.317414\n",
       "3   -2.296504  0.573447\n",
       "4   -2.380802 -0.672514\n",
       "5   -2.063623 -1.513478\n",
       "6   -2.437545 -0.074314\n",
       "7   -2.226383 -0.246787\n",
       "8   -2.334138  1.091490\n",
       "9   -2.181368  0.447131\n",
       "10  -2.156263 -1.067021\n",
       "11  -2.319607 -0.158058\n",
       "12  -2.216657  0.706750\n",
       "13  -2.630902  0.935149\n",
       "14  -2.184972 -1.883668\n",
       "15  -2.243948 -2.713281\n",
       "16  -2.195396 -1.508696\n",
       "17  -2.182866 -0.512587\n",
       "18  -1.887750 -1.426332\n",
       "19  -2.332136 -1.154167\n",
       "20  -1.908164 -0.429028\n",
       "21  -2.197284 -0.949277\n",
       "22  -2.764907 -0.487883\n",
       "23  -1.814333 -0.106394\n",
       "24  -2.220778 -0.161645\n",
       "25  -1.950490  0.605863\n",
       "26  -2.045212 -0.265126\n",
       "27  -2.160954 -0.550173\n",
       "28  -2.133160 -0.335516\n",
       "29  -2.261215  0.313827\n",
       "..        ...       ...\n",
       "120  2.033683 -0.904369\n",
       "121  0.970663  0.569267\n",
       "122  2.888388 -0.396463\n",
       "123  1.324756  0.485135\n",
       "124  1.698550 -1.010762\n",
       "125  1.951191 -0.999984\n",
       "126  1.167992  0.317832\n",
       "127  1.016376 -0.065324\n",
       "128  1.780046  0.192627\n",
       "129  1.858552 -0.553527\n",
       "130  2.427365 -0.245831\n",
       "131  2.308349 -2.617415\n",
       "132  1.854160  0.184056\n",
       "133  1.107561  0.294998\n",
       "134  1.193471  0.814439\n",
       "135  2.791597 -0.841928\n",
       "136  1.574879 -1.068894\n",
       "137  1.342547 -0.420846\n",
       "138  0.920350 -0.019166\n",
       "139  1.847363 -0.670178\n",
       "140  2.009425 -0.608359\n",
       "141  1.896763 -0.683734\n",
       "142  1.149339  0.698984\n",
       "143  2.036486 -0.861798\n",
       "144  1.995008 -1.045049\n",
       "145  1.864277 -0.381544\n",
       "146  1.553288  0.902291\n",
       "147  1.515767 -0.265904\n",
       "148  1.371796 -1.012968\n",
       "149  0.956096  0.022210\n",
       "\n",
       "[150 rows x 2 columns]"
      ]
     },
     "execution_count": 107,
     "metadata": {},
     "output_type": "execute_result"
    }
   ],
   "source": [
    "Y1=df3.dot(matrix_w1)\n",
    "Y1"
   ]
  },
  {
   "cell_type": "code",
   "execution_count": null,
   "metadata": {
    "collapsed": true
   },
   "outputs": [],
   "source": []
  }
 ],
 "metadata": {
  "kernelspec": {
   "display_name": "Python 3",
   "language": "python",
   "name": "python3"
  },
  "language_info": {
   "codemirror_mode": {
    "name": "ipython",
    "version": 3
   },
   "file_extension": ".py",
   "mimetype": "text/x-python",
   "name": "python",
   "nbconvert_exporter": "python",
   "pygments_lexer": "ipython3",
   "version": "3.6.1"
  }
 },
 "nbformat": 4,
 "nbformat_minor": 2
}
